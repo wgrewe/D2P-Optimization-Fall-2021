{
 "cells": [
  {
   "cell_type": "markdown",
   "metadata": {},
   "source": [
    "# Data Cleaning of American Community Surveys"
   ]
  },
  {
   "cell_type": "markdown",
   "metadata": {},
   "source": [
    "Our analysis pulls from 3 instances of the American Community Survey for Denver neighborhoods. These surveys are 5 year averages over the years 2006-2010, 2010-2014, and 2015-2019. These surveys contain a large number of features, in this notebook, we will isolate just the features that we care about. \n",
    "\n",
    "We are interested in understanding gentrification in Denver. We will consider only the following columns: \n",
    "\n",
    "**Race Information**\n",
    "- PCT_HISPANIC (Percent Hispanic) \n",
    "- PCT_WHITE (Percent White) \n",
    "- PCT_BLACK (Percent Black)\n",
    "- PCT_NATIVE_AM (Percent Native American)\n",
    "- PCT_ASIAN (Percent Asian)\n",
    "- PCT_HAWAIIAN_PI (Percent Hawaiian and Pacific Islander)\n",
    "- PCT_OTHERRACE (Percent Other Race)\n",
    "- PCT_TWOORMORE_RACES (Percent 2 or More Races)\n",
    "\n",
    "**Education Information**\n",
    "- TTLPOP_25PLUS_EDU (Total Population at least 25 years old used for education data)\n",
    "- LESS_THAN_HS_DIPLOMA_EDU (Number of Residents with Less Than HS)\n",
    "- HSGRAD_OR_EQUIV_EDU (Number of Residents with HS or HS equivelant)\n",
    "- SOMECOLLEGE_OR_AA_EDU (Number of Residents with Some College or AA Degree)\n",
    "- BACHELORS_OR_HIGHER_EDU (Number of Residents with a Bachelors or Higher)\n",
    "\n",
    "**Income Information**\n",
    "- PER_CAPITA_INCOME (Per Capita Income)\n",
    "- AVG_HH_INCOME (Average Household Income)\n",
    "- AVG_FAM_INCOME (Average Family Income)\n",
    "\n",
    "**Poverty Information**\n",
    "- PCT_IN_POVERTY (Percent in Poverty)\n",
    "- PCT_FAM_POVERTY (Percent in Poverty)\n",
    "\n",
    "**Note** Exclude AVG family income because there exists a NaN"
   ]
  },
  {
   "cell_type": "code",
   "execution_count": 3,
   "metadata": {},
   "outputs": [],
   "source": [
    "import numpy as np\n",
    "import pandas as pd"
   ]
  },
  {
   "cell_type": "code",
   "execution_count": 4,
   "metadata": {},
   "outputs": [],
   "source": [
    "# Load Data\n",
    "ACS_2006 = pd.read_csv(\"https://raw.githubusercontent.com/wgrewe/D2P-Optimization-Fall-2021/main/American_Community_Surveys/american_community_survey_nbrhd_2006_2010.csv\")\n",
    "ACS_2010 = pd.read_csv(\"https://raw.githubusercontent.com/wgrewe/D2P-Optimization-Fall-2021/main/American_Community_Surveys/american_community_survey_nbrhd_2010_2014.csv\")\n",
    "ACS_2015 = pd.read_csv(\"https://raw.githubusercontent.com/wgrewe/D2P-Optimization-Fall-2021/main/American_Community_Surveys/american_community_survey_nbrhd_2015_2019.csv\")"
   ]
  },
  {
   "cell_type": "code",
   "execution_count": 83,
   "metadata": {},
   "outputs": [],
   "source": [
    "# Columns to be used\n",
    "\n",
    "neighborhood_col = [\"NBHD_NAME\"]\n",
    "race_cols = [\"PCT_HISPANIC\", \"PCT_WHITE\", \"PCT_BLACK\", \"PCT_NATIVE_AM\", \"PCT_ASIAN\", \"PCT_HAWAIIAN_PI\", \"PCT_OTHERRACE\", \"PCT_TWOORMORE_RACES\"]\n",
    "edu_cols = [\"TTLPOP_25PLUS_EDU\", \"LESS_THAN_HS_DIPLOMA_EDU\", \"HSGRAD_OR_EQUIV_EDU\", \"SOMECOLLEGE_OR_AA_EDU\", \"BACHELORS_OR_HIGHER_EDU\"]\n",
    "income_cols = [\"PER_CAPITA_INCOME\", \"AVG_HH_INCOME\"]\n",
    "poverty_cols = [\"PCT_IN_POVERTY\", \"PCT_FAM_POVERTY\"]\n",
    "\n",
    "cols = neighborhood_col + race_cols + edu_cols + income_cols + poverty_cols"
   ]
  },
  {
   "cell_type": "code",
   "execution_count": 84,
   "metadata": {},
   "outputs": [],
   "source": [
    "# Not all column names are consistent, fix this {'old' : 'NEW'}\n",
    "ACS_2010 = ACS_2010.rename({\"PCT_NATIVEAM\":\"PCT_NATIVE_AM\", \"PCT_HAWAIIANPI\":\"PCT_HAWAIIAN_PI\", \"PCT_POVERTY\":\"PCT_IN_POVERTY\", \"AVG_HH_INC\":\"AVG_HH_INCOME\"}, axis = 1)\n",
    "ACS_2015 = ACS_2015.rename({\"PCT_NATIVEAM\":\"PCT_NATIVE_AM\", \"PCT_HAWAIIANPI\":\"PCT_HAWAIIAN_PI\", \"PCT_POVERTY\":\"PCT_IN_POVERTY\"}, axis = 1)"
   ]
  },
  {
   "cell_type": "code",
   "execution_count": 85,
   "metadata": {},
   "outputs": [],
   "source": [
    "# Get Neighborhood IDs and Left Join with Survey Data\n",
    "neighbor_id = pd.read_csv(\"https://raw.githubusercontent.com/wgrewe/D2P-Optimization-Fall-2021/main/American_Community_Surveys/statistical_neighborhoods.csv\")"
   ]
  },
  {
   "cell_type": "code",
   "execution_count": null,
   "metadata": {},
   "outputs": [],
   "source": []
  },
  {
   "cell_type": "code",
   "execution_count": 86,
   "metadata": {},
   "outputs": [],
   "source": [
    "# Convert education data to percentage\n",
    "\n",
    "# Add columns for ACS 2006\n",
    "ACS_2006 = ACS_2006.assign(LESS_THAN_HS_PCT=100*ACS_2006['LESS_THAN_HS_DIPLOMA_EDU']/ACS_2006['TTLPOP_25PLUS_EDU'])\n",
    "ACS_2006 = ACS_2006.assign(HS_GRAD_PCT=100*ACS_2006['HSGRAD_OR_EQUIV_EDU']/ACS_2006['TTLPOP_25PLUS_EDU'])\n",
    "ACS_2006 = ACS_2006.assign(SOMECOLLEGE_PCT=100*ACS_2006['SOMECOLLEGE_OR_AA_EDU']/ACS_2006['TTLPOP_25PLUS_EDU'])\n",
    "ACS_2006 = ACS_2006.assign(BACHELORS_PCT=100*ACS_2006['BACHELORS_OR_HIGHER_EDU']/ACS_2006['TTLPOP_25PLUS_EDU'])\n",
    "\n",
    "# Add columns for ACS 2010\n",
    "ACS_2010 = ACS_2010.assign(LESS_THAN_HS_PCT=100*ACS_2010['LESS_THAN_HS_DIPLOMA_EDU']/ACS_2010['TTLPOP_25PLUS_EDU'])\n",
    "ACS_2010 = ACS_2010.assign(HS_GRAD_PCT=100*ACS_2010['HSGRAD_OR_EQUIV_EDU']/ACS_2010['TTLPOP_25PLUS_EDU'])\n",
    "ACS_2010 = ACS_2010.assign(SOMECOLLEGE_PCT=100*ACS_2010['SOMECOLLEGE_OR_AA_EDU']/ACS_2010['TTLPOP_25PLUS_EDU'])\n",
    "ACS_2010 = ACS_2010.assign(BACHELORS_PCT=100*ACS_2010['BACHELORS_OR_HIGHER_EDU']/ACS_2010['TTLPOP_25PLUS_EDU'])\n",
    "\n",
    "\n",
    "# Add columns for ACS 2015\n",
    "ACS_2015 = ACS_2015.assign(LESS_THAN_HS_PCT=100*ACS_2015['LESS_THAN_HS_DIPLOMA_EDU']/ACS_2015['TTLPOP_25PLUS_EDU'])\n",
    "ACS_2015 = ACS_2015.assign(HS_GRAD_PCT=100*ACS_2015['HSGRAD_OR_EQUIV_EDU']/ACS_2015['TTLPOP_25PLUS_EDU'])\n",
    "ACS_2015 = ACS_2015.assign(SOMECOLLEGE_PCT=100*ACS_2015['SOMECOLLEGE_OR_AA_EDU']/ACS_2015['TTLPOP_25PLUS_EDU'])\n",
    "ACS_2015 = ACS_2015.assign(BACHELORS_PCT=100*ACS_2015['BACHELORS_OR_HIGHER_EDU']/ACS_2015['TTLPOP_25PLUS_EDU'])\n"
   ]
  },
  {
   "cell_type": "code",
   "execution_count": null,
   "metadata": {},
   "outputs": [],
   "source": []
  },
  {
   "cell_type": "code",
   "execution_count": 87,
   "metadata": {},
   "outputs": [],
   "source": [
    "edu_pct_cols = [\"LESS_THAN_HS_PCT\", \"HS_GRAD_PCT\", \"SOMECOLLEGE_PCT\", \"BACHELORS_PCT\"]\n",
    "clustering_cols = race_cols + edu_pct_cols + income_cols + poverty_cols\n",
    "\n",
    "ACS_2006_clustering = ACS_2006[clustering_cols]\n",
    "ACS_2010_clustering = ACS_2010[clustering_cols]\n",
    "ACS_2015_clustering = ACS_2015[clustering_cols]"
   ]
  },
  {
   "cell_type": "markdown",
   "metadata": {},
   "source": [
    "# Clustering Neighborhoods"
   ]
  },
  {
   "cell_type": "markdown",
   "metadata": {},
   "source": [
    "In this section, we cluster neighborhoods to find different groups of neighborhoods sorted by wealth/privilege. Note: measure of gentrification isn't quite the right word to use here, gentrification is the process of making a neighborhood wealthier/whiter etc, some neighborhoods do not go through this process, for example Country Club has been rich and white for many, many years."
   ]
  },
  {
   "cell_type": "code",
   "execution_count": 49,
   "metadata": {},
   "outputs": [],
   "source": [
    "from sklearn.cluster import KMeans\n",
    "from sklearn.preprocessing import StandardScaler\n",
    "from sklearn.pipeline import make_pipeline"
   ]
  },
  {
   "cell_type": "code",
   "execution_count": 93,
   "metadata": {},
   "outputs": [],
   "source": [
    "# Set number of clusters\n",
    "K = 3\n",
    "\n",
    "# KMeans with Scaling\n",
    "\n",
    "# Create scaler: scaler\n",
    "scaler_2006 = StandardScaler()\n",
    "scaler_2010 = StandardScaler()\n",
    "scaler_2015 = StandardScaler()\n",
    "\n",
    "kmeans_2006 = KMeans(n_clusters=K)\n",
    "kmeans_2010 = KMeans(n_clusters=K)\n",
    "kmeans_2015 = KMeans(n_clusters=K)\n",
    "\n",
    "# Create pipeline: pipeline\n",
    "pipeline_2006 = make_pipeline(scaler_2006, kmeans_2006)\n",
    "pipeline_2010 = make_pipeline(scaler_2010, kmeans_2010)\n",
    "pipeline_2015 = make_pipeline(scaler_2015, kmeans_2015)\n",
    "\n",
    "# Fit the pipeline to samples\n",
    "pipeline_2006.fit(ACS_2006_clustering)\n",
    "pipeline_2010.fit(ACS_2010_clustering)\n",
    "pipeline_2015.fit(ACS_2015_clustering)\n",
    "\n",
    "# Calculate the cluster labels: labels\n",
    "labels_2006 = pipeline_2006.predict(ACS_2006_clustering)\n",
    "labels_2010 = pipeline_2010.predict(ACS_2010_clustering)\n",
    "labels_2015 = pipeline_2015.predict(ACS_2015_clustering)"
   ]
  },
  {
   "cell_type": "code",
   "execution_count": 96,
   "metadata": {},
   "outputs": [
    {
     "data": {
      "text/plain": [
       "array([0, 0, 0, 0, 0, 1, 1, 1, 0, 1, 1, 1, 1, 2, 0, 0, 0, 0, 0, 0, 2, 2,\n",
       "       2, 2, 2, 2, 2, 2, 2, 2, 0, 2, 2, 2, 1, 0, 1, 0, 2, 2, 2, 1, 0, 1,\n",
       "       0, 0, 0, 0, 2, 2, 0, 2, 0, 2, 1, 2, 1, 1, 0, 1, 1, 1, 1, 1, 0, 1,\n",
       "       1, 2, 0, 2, 0, 1, 0, 0, 0, 0, 2, 0], dtype=int32)"
      ]
     },
     "execution_count": 96,
     "metadata": {},
     "output_type": "execute_result"
    }
   ],
   "source": [
    "labels_2006"
   ]
  },
  {
   "cell_type": "code",
   "execution_count": 97,
   "metadata": {},
   "outputs": [
    {
     "data": {
      "text/plain": [
       "array([1, 1, 0, 1, 1, 1, 1, 1, 1, 2, 1, 2, 0, 0, 2, 2, 0, 2, 2, 1, 0, 0,\n",
       "       0, 0, 0, 0, 0, 2, 0, 0, 0, 1, 2, 1, 2, 2, 2, 2, 2, 2, 1, 1, 1, 2,\n",
       "       2, 2, 1, 2, 2, 1, 1, 1, 0, 0, 0, 0, 0, 0, 0, 0, 1, 0, 0, 0, 2, 1,\n",
       "       2, 2, 0, 0, 0, 0, 0, 2, 0, 1, 0, 1], dtype=int32)"
      ]
     },
     "execution_count": 97,
     "metadata": {},
     "output_type": "execute_result"
    }
   ],
   "source": [
    "labels_2010"
   ]
  },
  {
   "cell_type": "code",
   "execution_count": 98,
   "metadata": {},
   "outputs": [
    {
     "data": {
      "text/plain": [
       "array([2, 2, 0, 2, 0, 2, 2, 2, 1, 1, 1, 2, 2, 2, 1, 1, 0, 0, 2, 1, 2, 1,\n",
       "       1, 0, 1, 1, 2, 0, 1, 1, 0, 1, 0, 0, 0, 2, 0, 0, 0, 0, 0, 0, 0, 1,\n",
       "       0, 0, 2, 0, 2, 0, 0, 0, 1, 2, 1, 1, 1, 2, 1, 1, 2, 2, 2, 2, 1, 1,\n",
       "       1, 1, 0, 0, 0, 0, 0, 0, 0, 0, 0, 0], dtype=int32)"
      ]
     },
     "execution_count": 98,
     "metadata": {},
     "output_type": "execute_result"
    }
   ],
   "source": [
    "labels_2015"
   ]
  },
  {
   "cell_type": "code",
   "execution_count": null,
   "metadata": {},
   "outputs": [],
   "source": []
  }
 ],
 "metadata": {
  "kernelspec": {
   "display_name": "Python 3",
   "language": "python",
   "name": "python3"
  },
  "language_info": {
   "codemirror_mode": {
    "name": "ipython",
    "version": 3
   },
   "file_extension": ".py",
   "mimetype": "text/x-python",
   "name": "python",
   "nbconvert_exporter": "python",
   "pygments_lexer": "ipython3",
   "version": "3.8.3"
  }
 },
 "nbformat": 4,
 "nbformat_minor": 4
}
